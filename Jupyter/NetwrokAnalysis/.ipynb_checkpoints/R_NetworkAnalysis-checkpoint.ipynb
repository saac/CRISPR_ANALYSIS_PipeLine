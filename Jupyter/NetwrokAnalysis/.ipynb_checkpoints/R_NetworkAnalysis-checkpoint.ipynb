{
 "cells": [
  {
   "cell_type": "code",
   "execution_count": 1,
   "metadata": {},
   "outputs": [
    {
     "name": "stderr",
     "output_type": "stream",
     "text": [
      "── Attaching packages ─────────────────────────────────────── tidyverse 1.2.1 ──\n",
      "✔ ggplot2 3.0.0     ✔ purrr   0.2.5\n",
      "✔ tibble  1.4.2     ✔ dplyr   0.7.6\n",
      "✔ tidyr   0.8.1     ✔ stringr 1.3.1\n",
      "✔ readr   1.1.1     ✔ forcats 0.3.0\n",
      "── Conflicts ────────────────────────────────────────── tidyverse_conflicts() ──\n",
      "✖ dplyr::filter() masks stats::filter()\n",
      "✖ dplyr::lag()    masks stats::lag()\n",
      "\n",
      "Attaching package: ‘magrittr’\n",
      "\n",
      "The following object is masked from ‘package:purrr’:\n",
      "\n",
      "    set_names\n",
      "\n",
      "The following object is masked from ‘package:tidyr’:\n",
      "\n",
      "    extract\n",
      "\n",
      "Loading required package: vegan\n",
      "Loading required package: permute\n",
      "Loading required package: lattice\n",
      "This is vegan 2.5-2\n",
      "Loading required package: sna\n",
      "Loading required package: statnet.common\n",
      "\n",
      "Attaching package: ‘statnet.common’\n",
      "\n",
      "The following object is masked from ‘package:base’:\n",
      "\n",
      "    order\n",
      "\n",
      "Loading required package: network\n",
      "network: Classes for Relational Data\n",
      "Version 1.13.0.1 created on 2015-08-31.\n",
      "copyright (c) 2005, Carter T. Butts, University of California-Irvine\n",
      "                    Mark S. Handcock, University of California -- Los Angeles\n",
      "                    David R. Hunter, Penn State University\n",
      "                    Martina Morris, University of Washington\n",
      "                    Skye Bender-deMoll, University of Washington\n",
      " For citation information, type citation(\"network\").\n",
      " Type help(\"network-package\") to get started.\n",
      "\n",
      "sna: Tools for Social Network Analysis\n",
      "Version 2.4 created on 2016-07-23.\n",
      "copyright (c) 2005, Carter T. Butts, University of California-Irvine\n",
      " For citation information, type citation(\"sna\").\n",
      " Type help(package=\"sna\") to get started.\n",
      "\n",
      " This is bipartite 2.11\n",
      " For latest changes see versionlog in  ?\"bipartite-package\".\n",
      " For citation see: citation(\"bipartite\").\n",
      " Have a nice time plotting and analysing two-mode networks.\n",
      "\n",
      "\n",
      "Attaching package: ‘bipartite’\n",
      "\n",
      "The following object is masked from ‘package:vegan’:\n",
      "\n",
      "    nullmodel\n",
      "\n",
      "\n",
      "Attaching package: ‘igraph’\n",
      "\n",
      "The following object is masked from ‘package:bipartite’:\n",
      "\n",
      "    strength\n",
      "\n",
      "The following objects are masked from ‘package:sna’:\n",
      "\n",
      "    betweenness, bonpow, closeness, components, degree, dyad.census,\n",
      "    evcent, hierarchy, is.connected, neighborhood, triad.census\n",
      "\n",
      "The following objects are masked from ‘package:network’:\n",
      "\n",
      "    add.edges, add.vertices, %c%, delete.edges, delete.vertices,\n",
      "    get.edge.attribute, get.edges, get.vertex.attribute, is.bipartite,\n",
      "    is.directed, list.edge.attributes, list.vertex.attributes, %s%,\n",
      "    set.edge.attribute, set.vertex.attribute\n",
      "\n",
      "The following object is masked from ‘package:vegan’:\n",
      "\n",
      "    diversity\n",
      "\n",
      "The following object is masked from ‘package:permute’:\n",
      "\n",
      "    permute\n",
      "\n",
      "The following objects are masked from ‘package:dplyr’:\n",
      "\n",
      "    as_data_frame, groups, union\n",
      "\n",
      "The following objects are masked from ‘package:purrr’:\n",
      "\n",
      "    compose, simplify\n",
      "\n",
      "The following object is masked from ‘package:tidyr’:\n",
      "\n",
      "    crossing\n",
      "\n",
      "The following object is masked from ‘package:tibble’:\n",
      "\n",
      "    as_data_frame\n",
      "\n",
      "The following objects are masked from ‘package:stats’:\n",
      "\n",
      "    decompose, spectrum\n",
      "\n",
      "The following object is masked from ‘package:base’:\n",
      "\n",
      "    union\n",
      "\n"
     ]
    }
   ],
   "source": [
    "library(tidyverse)\n",
    "library(magrittr)\n",
    "library(bipartite)\n",
    "library(vegan)\n",
    "library(RColorBrewer)\n",
    "library(igraph)\n",
    "\n",
    "source('Functions.R')"
   ]
  },
  {
   "cell_type": "markdown",
   "metadata": {},
   "source": [
    " # <center>############### Chosing DATA #################</center>"
   ]
  },
  {
   "cell_type": "markdown",
   "metadata": {},
   "source": [
    "##  <center>Low Mutation Rate</center>"
   ]
  },
  {
   "cell_type": "markdown",
   "metadata": {},
   "source": [
    "$\\mu = 1x10^{-7}$ <br />\n",
    "1 Initial Virus Strain  (\"Cold Start\")"
   ]
  },
  {
   "cell_type": "code",
   "execution_count": null,
   "metadata": {},
   "outputs": [],
   "source": [
    "DataPath=\"../DATA/1_Low-MutRate/ColdStart\"\n",
    "prefix=\"mu1e-7_initialDiffDp1_S10P15_R-12499\""
   ]
  },
  {
   "cell_type": "markdown",
   "metadata": {},
   "source": [
    "$\\mu = 1x10^{-7}$ <br />\n",
    "10 Initial Virus Strain  (\"Hot Start\")"
   ]
  },
  {
   "cell_type": "code",
   "execution_count": null,
   "metadata": {},
   "outputs": [],
   "source": [
    "DataPath=\"../DATA/1_Low-MutRate/HotStart\"\n",
    "prefix=\"mu1e-7_initialDiffDp10_S10P15_R-1987\""
   ]
  },
  {
   "cell_type": "markdown",
   "metadata": {},
   "source": [
    "##  <center>High Mutation Rate</center>"
   ]
  },
  {
   "cell_type": "markdown",
   "metadata": {},
   "source": [
    "$\\mu = 5x10^{-7}$ <br />\n",
    "1 Initial Virus Strain  (\"Cold Start\")"
   ]
  },
  {
   "cell_type": "code",
   "execution_count": null,
   "metadata": {},
   "outputs": [],
   "source": [
    "DataPath=\"../DATA/DATA/2_Hi-MutRate/ColdStart\"\n",
    "prefix=\"mu5e-7_initialDiffDp1_S10P15_R-5364\""
   ]
  },
  {
   "cell_type": "markdown",
   "metadata": {},
   "source": [
    "$\\mu = 5x10^{-7}$ <br />\n",
    "10 Initial Virus Strain  (\"Hot Start\")\n"
   ]
  },
  {
   "cell_type": "code",
   "execution_count": 2,
   "metadata": {},
   "outputs": [],
   "source": [
    "DataPath=\"../DATA/2_Hi-MutRate/HotStart\"\n",
    "prefix=\"mu5e-7_initialDiffDp10_S10P15_R-13073\""
   ]
  },
  {
   "cell_type": "markdown",
   "metadata": {},
   "source": [
    "#  <center>############### Chosing Time Range #################</center>"
   ]
  },
  {
   "cell_type": "code",
   "execution_count": 3,
   "metadata": {},
   "outputs": [],
   "source": [
    "Time=1000"
   ]
  },
  {
   "cell_type": "markdown",
   "metadata": {},
   "source": [
    "#  <center>#########################</center>"
   ]
  },
  {
   "cell_type": "code",
   "execution_count": 4,
   "metadata": {},
   "outputs": [],
   "source": [
    "#bacteriaFile=paste(prefix,\"_data-bact.txt\",sep=\"\")\n",
    "bacteriaFile=paste(DataPath,prefix,\"_data-bact.txt\",sep=\"\")\n",
    "virusFile=paste(prefix,\"_data-phage.txt\",sep=\"\")\n",
    "system(paste('python BuildNetworks_v12.py',virusFile,' ',bacteriaFile,' ',Time))"
   ]
  },
  {
   "cell_type": "markdown",
   "metadata": {},
   "source": [
    "# Virus ProtoSpacer Acquisition "
   ]
  },
  {
   "cell_type": "code",
   "execution_count": 5,
   "metadata": {},
   "outputs": [
    {
     "name": "stderr",
     "output_type": "stream",
     "text": [
      "Warning message in file(file, \"rt\"):\n",
      "“cannot open file 'Protospacers-by-virus_mu5e-7_initialDiffDp10_S10P15_R-13073_Time_1000.txt': No such file or directory”"
     ]
    },
    {
     "ename": "ERROR",
     "evalue": "Error in file(file, \"rt\"): cannot open the connection\n",
     "output_type": "error",
     "traceback": [
      "Error in file(file, \"rt\"): cannot open the connection\nTraceback:\n",
      "1. BuildNetwork(argument, \"Ps_\")",
      "2. load_bipartite_file_1(argument, \"\\t\")",
      "3. read.csv(file, sep = s)",
      "4. read.table(file = file, header = header, sep = sep, quote = quote, \n .     dec = dec, fill = fill, comment.char = comment.char, ...)",
      "5. file(file, \"rt\")"
     ]
    }
   ],
   "source": [
    "argument = paste('Protospacers-by-virus_',prefix,'_Time_',Time,'.txt',sep=\"\")\n",
    "network = BuildNetwork(argument,'Ps_')"
   ]
  },
  {
   "cell_type": "code",
   "execution_count": null,
   "metadata": {},
   "outputs": [],
   "source": [
    "title = paste('Virus ProtoSpacer acquisition Network from Simlated Data','\\n','Time = ',Time,sep=\"\");\n",
    "plot_matrix(network, layout = 'nested', method = 'ggplot', binary_cols = c('white','darkgreen'), title=title, x_title='Proto Spacers', y_title='Virus strains')+theme(legend.position = 'none');"
   ]
  },
  {
   "cell_type": "markdown",
   "metadata": {},
   "source": [
    "## ProtoSpacer Acquisition Modularity\n"
   ]
  },
  {
   "cell_type": "code",
   "execution_count": null,
   "metadata": {},
   "outputs": [],
   "source": [
    "x <- Infomap_wrapper_NoShuffled(Z = network, bipartite_groups = c('ProtoSpacer','Virus'), file_prefix = prefix)\n",
    "title = paste('Virus ProtoSpacer acquisition modularity from Simlated Data ','\\n','Time = ',Time,sep=\"\");\n",
    "ggplot_bipartite_modules(Z=network, x$node_data_obs, module_numbers = F, color_tick_labels = Time, border=F, text_size = 18, title=title, xlab='Protospacer ID', ylab='Virus strain');"
   ]
  },
  {
   "cell_type": "markdown",
   "metadata": {},
   "source": [
    "# Bacteria Spacer Acquisition "
   ]
  },
  {
   "cell_type": "code",
   "execution_count": null,
   "metadata": {},
   "outputs": [],
   "source": [
    "argument = paste('Spacers-by-bacteria_',prefix,'_Time_',Time,'.txt',sep=\"\")\n",
    "network = BuildNetwork(argument,'Sp_')"
   ]
  },
  {
   "cell_type": "code",
   "execution_count": null,
   "metadata": {},
   "outputs": [],
   "source": [
    "title = paste('Spacer Aquisition Network from Simulated Data','\\n','Time = ',Time,sep=\"\");\n",
    "plot_matrix(network, layout = 'nested', method = 'ggplot', binary_cols = c('white','orange'), title=title, x_title='Spacers', y_title='Bacteria strains')+theme(legend.position = 'none');"
   ]
  },
  {
   "cell_type": "markdown",
   "metadata": {},
   "source": [
    "## Spacer Acquisition Modularity"
   ]
  },
  {
   "cell_type": "code",
   "execution_count": null,
   "metadata": {},
   "outputs": [],
   "source": [
    "x <- Infomap_wrapper_NoShuffled(Z = network, bipartite_groups = c('Spacer','Bacteria'), file_prefix = prefix)\n",
    "title = paste('Bacteria Spacer acquisition modularity from Simlated Data ','\\n','Time = ',Time,sep=\"\");\n",
    "ggplot_bipartite_modules(Z=network, x$node_data_obs, module_numbers = F, color_tick_labels = T, border=F, text_size = 18, title=title, xlab='Spacer ID', ylab='Bacteria strain')"
   ]
  },
  {
   "cell_type": "markdown",
   "metadata": {},
   "source": [
    "# Immunity Network"
   ]
  },
  {
   "cell_type": "code",
   "execution_count": null,
   "metadata": {},
   "outputs": [],
   "source": [
    "argument = paste('Bipartite_MATRIX_',prefix,'_Time_',Time,'.txt',sep=\"\")\n",
    "network = BuildBipartiteNetwork(argument)"
   ]
  },
  {
   "cell_type": "code",
   "execution_count": null,
   "metadata": {},
   "outputs": [],
   "source": [
    "title = paste('Immunity Network from Simlated Data','\\n','Time = ',Time,sep=\"\");\n",
    "plot_matrix(network, layout = 'nested', method = 'ggplot', title=title, x_title='Bacteria strains', y_title='Virus strains')"
   ]
  },
  {
   "cell_type": "markdown",
   "metadata": {},
   "source": [
    "## Immunity Network Modularity"
   ]
  },
  {
   "cell_type": "code",
   "execution_count": null,
   "metadata": {},
   "outputs": [],
   "source": [
    "x <- Infomap_wrapper_NoShuffled(Z = network, bipartite_groups = c('Bacteria', 'Virus'), file_prefix = prefix)\n",
    "title = paste('Immunity Network Modularity from Simlated Data ','\\n','Time = ',Time,sep=\"\");\n",
    "ggplot_bipartite_modules(Z=network, x$node_data_obs, module_numbers = F, color_tick_labels = T, border=F, text_size = 18, title=title, xlab='Bacteria strain', ylab='Virus strain')"
   ]
  },
  {
   "cell_type": "markdown",
   "metadata": {},
   "source": [
    "# Infection Network"
   ]
  },
  {
   "cell_type": "code",
   "execution_count": null,
   "metadata": {},
   "outputs": [],
   "source": [
    "argument = paste('BipartieInfection_MATRIX_',prefix,'_Time_',Time,'.txt',sep=\"\")\n",
    "network = BuildBipartiteNetwork(argument)"
   ]
  },
  {
   "cell_type": "code",
   "execution_count": null,
   "metadata": {},
   "outputs": [],
   "source": [
    "title = paste('Infection Network from Simlated Data','\\n','Time = ',Time,sep=\"\");\n",
    "plot_matrix(network, layout = 'nested', method = 'ggplot', title=title, x_title='Bacteria strains', y_title='Virus strains')"
   ]
  },
  {
   "cell_type": "markdown",
   "metadata": {},
   "source": [
    "## Infection Network Modularity"
   ]
  },
  {
   "cell_type": "code",
   "execution_count": null,
   "metadata": {},
   "outputs": [],
   "source": [
    "x <- Infomap_wrapper_NoShuffled(Z = network, bipartite_groups = c('Bacteria', 'Virus'), file_prefix = prefix)\n",
    "title = paste('Infection Network Modularity from Simlated Data  ','\\n','Time = ',Time,sep=\"\");\n",
    "ggplot_bipartite_modules(Z=network, x$node_data_obs, module_numbers = F, color_tick_labels = T, border=F, text_size = 18, title=title, xlab='Bacteria strain', ylab='Virus strain', weighted=T)"
   ]
  },
  {
   "cell_type": "code",
   "execution_count": null,
   "metadata": {},
   "outputs": [],
   "source": [
    "system('rm *Time_*.txt')\n",
    "system('rm *_Infomap.*')"
   ]
  },
  {
   "cell_type": "code",
   "execution_count": null,
   "metadata": {},
   "outputs": [],
   "source": []
  },
  {
   "cell_type": "code",
   "execution_count": null,
   "metadata": {},
   "outputs": [],
   "source": []
  }
 ],
 "metadata": {
  "kernelspec": {
   "display_name": "R",
   "language": "R",
   "name": "ir"
  },
  "language_info": {
   "codemirror_mode": "r",
   "file_extension": ".r",
   "mimetype": "text/x-r-source",
   "name": "R",
   "pygments_lexer": "r",
   "version": "3.4.4"
  }
 },
 "nbformat": 4,
 "nbformat_minor": 2
}
