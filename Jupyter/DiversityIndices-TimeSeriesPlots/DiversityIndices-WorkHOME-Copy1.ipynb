{
 "cells": [
  {
   "cell_type": "code",
   "execution_count": 1,
   "metadata": {},
   "outputs": [],
   "source": [
    "%matplotlib notebook\n",
    "\n",
    "from __future__ import print_function\n",
    "from ipywidgets import interact, interactive, fixed, interact_manual\n",
    "import ipywidgets as widgets\n",
    "\n",
    "#import DiversityIndicesBiblio\n",
    "from DiversityIndicesBiblio import *"
   ]
  },
  {
   "cell_type": "code",
   "execution_count": 2,
   "metadata": {},
   "outputs": [],
   "source": [
    "virus_file = \"mu1e-7_initialDiffDp1_S10P15_R-12499_data-phage.txt\"\n",
    "bacteria_file = \"mu1e-7_initialDiffDp1_S10P15_R-12499_data-bact.txt\""
   ]
  },
  {
   "cell_type": "code",
   "execution_count": 3,
   "metadata": {},
   "outputs": [
    {
     "name": "stderr",
     "output_type": "stream",
     "text": [
      "DiversityIndicesBiblio.py:62: RuntimeWarning: invalid value encountered in double_scalars\n",
      "  E = (H/(mth.log(R)))\n",
      "DiversityIndicesBiblio.py:80: RuntimeWarning: invalid value encountered in double_scalars\n",
      "  E = (H/(mth.log(R)))\n"
     ]
    }
   ],
   "source": [
    "Tv,Rv,Hv,Ev = DiversityIndices(virus_file)\n",
    "Tb,Rb,Hb,Eb = DiversityIndices(bacteria_file)"
   ]
  },
  {
   "cell_type": "code",
   "execution_count": null,
   "metadata": {},
   "outputs": [],
   "source": [
    "def PlotData(Tempo,Virus,Bacterias,t1,t2):\n",
    "    \n",
    "    V = []\n",
    "    B = []\n",
    "    T = []\n",
    "    \n",
    "    for t in range(t1-1,t2):\n",
    "        T.append(float(Tempo[t]))\n",
    "        V.append(float(Virus[t]))\n",
    "        B.append(float(Bacterias[t]))\n",
    "    \n",
    "\n",
    "    plot(T, V, '.', label='Virus')\n",
    "    plot(T, B, '.', label='Bacteria')\n",
    "    grid(True)\n",
    "    legend(loc='upper left')\n",
    "    #title('Diversity Indices ')\n",
    "    ylabel('Richness  $S$')"
   ]
  },
  {
   "cell_type": "code",
   "execution_count": null,
   "metadata": {},
   "outputs": [],
   "source": [
    "def PlotRichness(Tempo,Virus,Bacterias,t1,t2):\n",
    "    \n",
    "    T = []\n",
    "    B = []    \n",
    "    V = []\n",
    "    \n",
    "    for t in range(t1-1,t2):\n",
    "        T.append(float(Tempo[t]))\n",
    "        V.append(float(Virus[t]))\n",
    "        B.append(float(Bacterias[t]))\n",
    "    \n",
    "    figure(dpi= 130)\n",
    "\n",
    "    plot(T, V, '-', label='Virus')\n",
    "    plot(T, B, '-', label='Bacteria')\n",
    "    grid(True)\n",
    "    legend(loc='upper left')\n",
    "    title('Diversity Indices ')\n",
    "    xlabel('time $t$ (hr)')\n",
    "    ylabel('Richness  $S$')"
   ]
  },
  {
   "cell_type": "code",
   "execution_count": 19,
   "metadata": {},
   "outputs": [],
   "source": [
    "def Fun(x,y):\n",
    "    return x,y"
   ]
  },
  {
   "cell_type": "code",
   "execution_count": 24,
   "metadata": {},
   "outputs": [],
   "source": [
    "def F(x):\n",
    "    return x"
   ]
  },
  {
   "cell_type": "code",
   "execution_count": null,
   "metadata": {},
   "outputs": [],
   "source": [
    "#PlotData(Tv,Rv,1,2500)\n",
    "#PlotData(Tempo,Values,t1,t2):\n",
    "tmax = len(Tv)\n",
    "interact_manual(PlotData, Tempo=fixed(Tv), Virus=fixed(Rv), Bacterias=fixed(Rb),t1=widgets.IntSlider(min=1,max=tmax,step=1, value=1),t2=widgets.IntSlider(min=1,max=tmax,step=1,value=tmax));"
   ]
  },
  {
   "cell_type": "code",
   "execution_count": 14,
   "metadata": {},
   "outputs": [],
   "source": [
    "#t1, t2 = 1, 600"
   ]
  },
  {
   "cell_type": "code",
   "execution_count": 25,
   "metadata": {},
   "outputs": [
    {
     "data": {
      "application/vnd.jupyter.widget-view+json": {
       "model_id": "65c0652450a2495ebad73c4b3daa291f",
       "version_major": 2,
       "version_minor": 0
      },
      "text/plain": [
       "aW50ZXJhY3RpdmUoY2hpbGRyZW49KEludFNsaWRlcih2YWx1ZT0xMCwgZGVzY3JpcHRpb249dSd4JywgbWF4PTMwLCBtaW49LTEwKSwgSW50U2xpZGVyKHZhbHVlPTEwLCBkZXNjcmlwdGlvbj3igKY=\n"
      ]
     },
     "metadata": {},
     "output_type": "display_data"
    }
   ],
   "source": [
    "interact(Fun, x=10,y=10);"
   ]
  },
  {
   "cell_type": "code",
   "execution_count": 39,
   "metadata": {},
   "outputs": [
    {
     "data": {
      "application/vnd.jupyter.widget-view+json": {
       "model_id": "18bc4722f8f2448ca42b4aaf9ee7ce0a",
       "version_major": 2,
       "version_minor": 0
      },
      "text/plain": [
       "aW50ZXJhY3RpdmUoY2hpbGRyZW49KEludFNsaWRlcih2YWx1ZT0xMCwgZGVzY3JpcHRpb249dSd4JywgbWF4PTMwLCBtaW49LTEwKSwgT3V0cHV0KCkpLCBfZG9tX2NsYXNzZXM9KHUnd2lkZ2XigKY=\n"
      ]
     },
     "metadata": {},
     "output_type": "display_data"
    }
   ],
   "source": [
    "t = interact(F, x=10);"
   ]
  },
  {
   "cell_type": "code",
   "execution_count": 51,
   "metadata": {},
   "outputs": [],
   "source": [
    "t1 = t.widget.args\n",
    "t2 = t.widget.args"
   ]
  },
  {
   "cell_type": "code",
   "execution_count": 47,
   "metadata": {},
   "outputs": [],
   "source": [
    "t1, t2 = 1, 600"
   ]
  },
  {
   "cell_type": "code",
   "execution_count": 50,
   "metadata": {},
   "outputs": [
    {
     "ename": "TypeError",
     "evalue": "unsupported operand type(s) for -: 'list' and 'int'",
     "output_type": "error",
     "traceback": [
      "\u001b[0;31m---------------------------------------------------------------------------\u001b[0m",
      "\u001b[0;31mTypeError\u001b[0m                                 Traceback (most recent call last)",
      "\u001b[0;32m<ipython-input-50-45c768d1b415>\u001b[0m in \u001b[0;36m<module>\u001b[0;34m()\u001b[0m\n\u001b[0;32m----> 1\u001b[0;31m \u001b[0mPlotRichness\u001b[0m\u001b[0;34m(\u001b[0m\u001b[0mTv\u001b[0m\u001b[0;34m,\u001b[0m\u001b[0mRv\u001b[0m\u001b[0;34m,\u001b[0m\u001b[0mRb\u001b[0m\u001b[0;34m,\u001b[0m\u001b[0mt1\u001b[0m\u001b[0;34m,\u001b[0m\u001b[0mt2\u001b[0m\u001b[0;34m)\u001b[0m\u001b[0;34m\u001b[0m\u001b[0m\n\u001b[0m",
      "\u001b[0;32m<ipython-input-5-96eb58d58209>\u001b[0m in \u001b[0;36mPlotRichness\u001b[0;34m(Tempo, Virus, Bacterias, t1, t2)\u001b[0m\n\u001b[1;32m      5\u001b[0m     \u001b[0mV\u001b[0m \u001b[0;34m=\u001b[0m \u001b[0;34m[\u001b[0m\u001b[0;34m]\u001b[0m\u001b[0;34m\u001b[0m\u001b[0m\n\u001b[1;32m      6\u001b[0m \u001b[0;34m\u001b[0m\u001b[0m\n\u001b[0;32m----> 7\u001b[0;31m     \u001b[0;32mfor\u001b[0m \u001b[0mt\u001b[0m \u001b[0;32min\u001b[0m \u001b[0mrange\u001b[0m\u001b[0;34m(\u001b[0m\u001b[0mt1\u001b[0m\u001b[0;34m-\u001b[0m\u001b[0;36m1\u001b[0m\u001b[0;34m,\u001b[0m\u001b[0mt2\u001b[0m\u001b[0;34m)\u001b[0m\u001b[0;34m:\u001b[0m\u001b[0;34m\u001b[0m\u001b[0m\n\u001b[0m\u001b[1;32m      8\u001b[0m         \u001b[0mT\u001b[0m\u001b[0;34m.\u001b[0m\u001b[0mappend\u001b[0m\u001b[0;34m(\u001b[0m\u001b[0mfloat\u001b[0m\u001b[0;34m(\u001b[0m\u001b[0mTempo\u001b[0m\u001b[0;34m[\u001b[0m\u001b[0mt\u001b[0m\u001b[0;34m]\u001b[0m\u001b[0;34m)\u001b[0m\u001b[0;34m)\u001b[0m\u001b[0;34m\u001b[0m\u001b[0m\n\u001b[1;32m      9\u001b[0m         \u001b[0mV\u001b[0m\u001b[0;34m.\u001b[0m\u001b[0mappend\u001b[0m\u001b[0;34m(\u001b[0m\u001b[0mfloat\u001b[0m\u001b[0;34m(\u001b[0m\u001b[0mVirus\u001b[0m\u001b[0;34m[\u001b[0m\u001b[0mt\u001b[0m\u001b[0;34m]\u001b[0m\u001b[0;34m)\u001b[0m\u001b[0;34m)\u001b[0m\u001b[0;34m\u001b[0m\u001b[0m\n",
      "\u001b[0;31mTypeError\u001b[0m: unsupported operand type(s) for -: 'list' and 'int'"
     ]
    }
   ],
   "source": [
    "PlotRichness(Tv,Rv,Rb,t1,t2)"
   ]
  },
  {
   "cell_type": "code",
   "execution_count": null,
   "metadata": {},
   "outputs": [],
   "source": [
    "#PlotData(Tv,Rv,1,2500)"
   ]
  },
  {
   "cell_type": "code",
   "execution_count": null,
   "metadata": {},
   "outputs": [],
   "source": [
    "#t1,t2 = 1500,2000"
   ]
  },
  {
   "cell_type": "code",
   "execution_count": null,
   "metadata": {},
   "outputs": [],
   "source": [
    "#Tv,Rv,Hv,Ev = DiversityIndices2(virus_file,t1,t2)\n",
    "#Tb,Rb,Hb,Eb = DiversityIndices2(bacteria_file,t1,t2)"
   ]
  },
  {
   "cell_type": "code",
   "execution_count": null,
   "metadata": {
    "scrolled": false
   },
   "outputs": [],
   "source": [
    "figure(dpi= 130)\n",
    "\n",
    "plot(Tv, Rv, '-', label='Virus')\n",
    "plot(Tb, Rb, '-', label='Bacteria')\n",
    "grid(True)\n",
    "legend(loc='upper left')\n",
    "title('Diversity Indices ')\n",
    "xlabel('time $t$ (hr)')\n",
    "ylabel('Richness  $S$')"
   ]
  },
  {
   "cell_type": "code",
   "execution_count": null,
   "metadata": {},
   "outputs": [],
   "source": [
    "figure(dpi= 130)\n",
    "plot(Tv, Hv, label='Virus')\n",
    "plot(Tb, Hb, 'r', label='Bacteria')\n",
    "grid(True)\n",
    "legend(loc='upper left')\n",
    "xlabel('time $t$ (hr)')\n",
    "ylabel('ShannonIndex  $H$')"
   ]
  },
  {
   "cell_type": "code",
   "execution_count": null,
   "metadata": {},
   "outputs": [],
   "source": [
    "figure(dpi= 130)\n",
    "plot(Tv, Ev, 'b', label='Virus')\n",
    "plot(Tb, Eb, 'r', label='Bacteria')\n",
    "grid(True)\n",
    "legend(loc='upper left')\n",
    "xlabel('time $t$ (hr)')\n",
    "ylabel('Evenness  $E_H$')"
   ]
  },
  {
   "cell_type": "code",
   "execution_count": null,
   "metadata": {},
   "outputs": [],
   "source": []
  }
 ],
 "metadata": {
  "kernelspec": {
   "display_name": "Python 2",
   "language": "python",
   "name": "python2"
  },
  "language_info": {
   "codemirror_mode": {
    "name": "ipython",
    "version": 2
   },
   "file_extension": ".py",
   "mimetype": "text/x-python",
   "name": "python",
   "nbconvert_exporter": "python",
   "pygments_lexer": "ipython2",
   "version": "2.7.15"
  }
 },
 "nbformat": 4,
 "nbformat_minor": 2
}
