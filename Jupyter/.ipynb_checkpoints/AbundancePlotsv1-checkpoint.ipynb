{
 "cells": [
  {
   "cell_type": "code",
   "execution_count": 1,
   "metadata": {},
   "outputs": [],
   "source": [
    "import numpy as np\n",
    "import matplotlib.pyplot as plt\n",
    "import pandas as pd"
   ]
  },
  {
   "cell_type": "code",
   "execution_count": 21,
   "metadata": {},
   "outputs": [],
   "source": [
    "from __future__ import print_function\n",
    "from ipywidgets import interact, interactive, fixed, interact_manual\n",
    "import ipywidgets as widgets"
   ]
  },
  {
   "cell_type": "code",
   "execution_count": 48,
   "metadata": {},
   "outputs": [
    {
     "name": "stdout",
     "output_type": "stream",
     "text": [
      "5000\n"
     ]
    }
   ],
   "source": [
    "%%bash -s \"mu1e-7_initialDiffDp1_S10P15_R-12499_Bacteria-abundance.txt\"\n",
    "N=$(awk 'BEGIN{max=0} NR>1 {if(($4)>max) max=($4)}END {print max}' $1)\n",
    "awk -v N=\"$N\" -v D=\"$D\" '{ if($4 < N/D) $3 = 0; print $0}' $1 > tmp\n",
    "tail -1 $1 | awk '{ print $1 }'"
   ]
  },
  {
   "cell_type": "code",
   "execution_count": 49,
   "metadata": {},
   "outputs": [],
   "source": [
    "cutoff=5000"
   ]
  },
  {
   "cell_type": "code",
   "execution_count": 50,
   "metadata": {},
   "outputs": [],
   "source": [
    "archivo = \"mu1e-7_initialDiffDp1_S10P15_R-12499_Bacteria-abundance.txt\"\n",
    "organism_abundance = np.genfromtxt(archivo, skip_header=1)"
   ]
  },
  {
   "cell_type": "code",
   "execution_count": 51,
   "metadata": {},
   "outputs": [],
   "source": [
    "label = np.unique(organism_abundance[:,2]).astype(int);\n",
    "stacked_plot = np.zeros([int(cutoff), label.shape[0]])\n",
    "new_timeRecord = 1;\n",
    "timesOfRecord = np.array([])\n",
    "time = np.array([])"
   ]
  },
  {
   "cell_type": "code",
   "execution_count": 52,
   "metadata": {},
   "outputs": [],
   "source": [
    "for i in range(organism_abundance.shape[0]):\n",
    "    if organism_abundance[i,0] == new_timeRecord:\n",
    "        timesOfRecord = np.concatenate((timesOfRecord, [new_timeRecord]))\n",
    "        time = np.concatenate((time, [organism_abundance[i,1]]))\n",
    "        new_timeRecord = new_timeRecord + 1\n",
    "    xlabel = int(organism_abundance[i,0] - 1)\n",
    "    ylabel = np.argmax(organism_abundance[i,2] == label)\n",
    "    stacked_plot[xlabel, ylabel] = organism_abundance[i,3]"
   ]
  },
  {
   "cell_type": "code",
   "execution_count": 53,
   "metadata": {},
   "outputs": [],
   "source": [
    "def AreaPlot(t1,t2):\n",
    "    df2 = pd.DataFrame(stacked_plot[t1:t2])\n",
    "    df2.plot.area(stacked=True, legend=False, linewidth=0);"
   ]
  },
  {
   "cell_type": "code",
   "execution_count": 54,
   "metadata": {},
   "outputs": [
    {
     "data": {
      "application/vnd.jupyter.widget-view+json": {
       "model_id": "7006fa4a5b074c02be2aba7657b63417",
       "version_major": 2,
       "version_minor": 0
      },
      "text/plain": [
       "aW50ZXJhY3RpdmUoY2hpbGRyZW49KEludFNsaWRlcih2YWx1ZT0wLCBkZXNjcmlwdGlvbj11J3QxJywgbWF4PTUwMDApLCBJbnRTbGlkZXIodmFsdWU9NTAwMCwgZGVzY3JpcHRpb249dSd0MifigKY=\n"
      ]
     },
     "metadata": {},
     "output_type": "display_data"
    }
   ],
   "source": [
    "interact_manual(AreaPlot, t1=widgets.IntSlider(min=0,max=cutoff,value=0),t2=widgets.IntSlider(min=0,max=cutoff,value=cutoff));"
   ]
  },
  {
   "cell_type": "code",
   "execution_count": null,
   "metadata": {},
   "outputs": [],
   "source": []
  }
 ],
 "metadata": {
  "kernelspec": {
   "display_name": "Python 2",
   "language": "python",
   "name": "python2"
  },
  "language_info": {
   "codemirror_mode": {
    "name": "ipython",
    "version": 2
   },
   "file_extension": ".py",
   "mimetype": "text/x-python",
   "name": "python",
   "nbconvert_exporter": "python",
   "pygments_lexer": "ipython2",
   "version": "2.7.15"
  }
 },
 "nbformat": 4,
 "nbformat_minor": 2
}
