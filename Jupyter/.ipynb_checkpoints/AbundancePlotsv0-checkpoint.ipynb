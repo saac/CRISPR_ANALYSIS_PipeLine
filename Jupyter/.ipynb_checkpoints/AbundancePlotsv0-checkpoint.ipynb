{
 "cells": [
  {
   "cell_type": "code",
   "execution_count": 113,
   "metadata": {},
   "outputs": [],
   "source": [
    "import numpy as np\n",
    "import matplotlib.pyplot as plt\n",
    "import pandas as pd"
   ]
  },
  {
   "cell_type": "code",
   "execution_count": 114,
   "metadata": {},
   "outputs": [],
   "source": [
    "from __future__ import print_function\n",
    "from ipywidgets import interact, interactive, fixed, interact_manual\n",
    "import ipywidgets as widgets"
   ]
  },
  {
   "cell_type": "code",
   "execution_count": 115,
   "metadata": {},
   "outputs": [],
   "source": [
    "! N=$(awk 'BEGIN{max=0} NR>1 {if(($4)>max) max=($4)}END {print max}' mu1e-7_initialDiffDp1_S10P15_R-12499_Bacteria-abundance.txt)\n",
    "! awk -v N=\"$N\" -v D=\"$D\" '{ if($4 < N/D) $3 = 0; print $0}' mu1e-7_initialDiffDp1_S10P15_R-12499_Bacteria-abundance.txt > tmp\n",
    "cutoff = ! tail -1 mu1e-7_initialDiffDp1_S10P15_R-12499_Bacteria-abundance.txt | awk '{ print $1 }'\n",
    "archivo = \"mu1e-7_initialDiffDp1_S10P15_R-12499_Bacteria-abundance.txt\""
   ]
  },
  {
   "cell_type": "code",
   "execution_count": 116,
   "metadata": {},
   "outputs": [],
   "source": [
    "organism_abundance = np.genfromtxt(archivo, skip_header=1)"
   ]
  },
  {
   "cell_type": "code",
   "execution_count": 117,
   "metadata": {},
   "outputs": [],
   "source": [
    "cutoff=int(cutoff[0])"
   ]
  },
  {
   "cell_type": "code",
   "execution_count": 118,
   "metadata": {},
   "outputs": [],
   "source": [
    "label = np.unique(organism_abundance[:,2]).astype(int);\n",
    "stacked_plot = np.zeros([int(cutoff), label.shape[0]])\n",
    "new_timeRecord = 1;\n",
    "timesOfRecord = np.array([])\n",
    "time = np.array([])"
   ]
  },
  {
   "cell_type": "code",
   "execution_count": 119,
   "metadata": {},
   "outputs": [],
   "source": [
    "for i in range(organism_abundance.shape[0]):\n",
    "    if organism_abundance[i,0] == new_timeRecord:\n",
    "        timesOfRecord = np.concatenate((timesOfRecord, [new_timeRecord]))\n",
    "        time = np.concatenate((time, [organism_abundance[i,1]]))\n",
    "        new_timeRecord = new_timeRecord + 1\n",
    "    xlabel = int(organism_abundance[i,0] - 1)\n",
    "    ylabel = np.argmax(organism_abundance[i,2] == label)\n",
    "    stacked_plot[xlabel, ylabel] = organism_abundance[i,3]"
   ]
  },
  {
   "cell_type": "code",
   "execution_count": 120,
   "metadata": {},
   "outputs": [],
   "source": [
    "#t1=0\n",
    "#t2=cutoff\n",
    "#t1=100\n",
    "#t2=1000"
   ]
  },
  {
   "cell_type": "code",
   "execution_count": 121,
   "metadata": {},
   "outputs": [],
   "source": [
    "#df2 = pd.DataFrame(stacked_plot[t1:t2])"
   ]
  },
  {
   "cell_type": "code",
   "execution_count": 122,
   "metadata": {},
   "outputs": [],
   "source": [
    "#df2.plot.area(stacked=True, legend=False, linewidth=0);"
   ]
  },
  {
   "cell_type": "code",
   "execution_count": 123,
   "metadata": {},
   "outputs": [],
   "source": [
    "#def f(t1,t2):\n",
    "#    return t1,t2"
   ]
  },
  {
   "cell_type": "code",
   "execution_count": 124,
   "metadata": {},
   "outputs": [],
   "source": [
    "#interact(f, t1=10,t2=100);"
   ]
  },
  {
   "cell_type": "code",
   "execution_count": 125,
   "metadata": {},
   "outputs": [],
   "source": [
    "#interact(f, t1=widgets.IntSlider(min=0,max=100,step=1,value=10),t2=widgets.IntSlider(min=t1,max=cutoff,step=1,value=1000));"
   ]
  },
  {
   "cell_type": "code",
   "execution_count": 126,
   "metadata": {},
   "outputs": [],
   "source": [
    "def AreaPlot(t1,t2):\n",
    "    df2 = pd.DataFrame(stacked_plot[t1:t2])\n",
    "    df2.plot.area(stacked=True, legend=False, linewidth=0);"
   ]
  },
  {
   "cell_type": "code",
   "execution_count": 127,
   "metadata": {},
   "outputs": [],
   "source": [
    "#interact(AreaPlot, t1=100,t2=3000);"
   ]
  },
  {
   "cell_type": "code",
   "execution_count": 130,
   "metadata": {},
   "outputs": [],
   "source": [
    "#interact(AreaPlot, t1=widgets.IntSlider(min=0,max=cutoff-100,step=1,value=0),t2=widgets.IntSlider(min=t1,max=cutoff,step=1,value=cutoff));"
   ]
  },
  {
   "cell_type": "code",
   "execution_count": 132,
   "metadata": {},
   "outputs": [
    {
     "data": {
      "application/vnd.jupyter.widget-view+json": {
       "model_id": "6a2293ebc0a74c4eb91842245a914e99",
       "version_major": 2,
       "version_minor": 0
      },
      "text/plain": [
       "aW50ZXJhY3RpdmUoY2hpbGRyZW49KEludFNsaWRlcih2YWx1ZT0wLCBkZXNjcmlwdGlvbj11J3QxJywgbWF4PTQ5MDApLCBJbnRTbGlkZXIodmFsdWU9NTAwMCwgZGVzY3JpcHRpb249dSd0MifigKY=\n"
      ]
     },
     "metadata": {},
     "output_type": "display_data"
    }
   ],
   "source": [
    "interact_manual(AreaPlot, t1=widgets.IntSlider(min=0,max=cutoff-100,step=1,value=0),t2=widgets.IntSlider(min=0,max=cutoff,step=1,value=cutoff));"
   ]
  },
  {
   "cell_type": "code",
   "execution_count": null,
   "metadata": {},
   "outputs": [],
   "source": []
  }
 ],
 "metadata": {
  "kernelspec": {
   "display_name": "Python 2",
   "language": "python",
   "name": "python2"
  },
  "language_info": {
   "codemirror_mode": {
    "name": "ipython",
    "version": 2
   },
   "file_extension": ".py",
   "mimetype": "text/x-python",
   "name": "python",
   "nbconvert_exporter": "python",
   "pygments_lexer": "ipython2",
   "version": "2.7.15"
  }
 },
 "nbformat": 4,
 "nbformat_minor": 2
}
