{
 "cells": [
  {
   "cell_type": "code",
   "execution_count": 10,
   "metadata": {},
   "outputs": [],
   "source": [
    "import numpy as np\n",
    "import matplotlib.pyplot as plt\n",
    "import pandas as pd"
   ]
  },
  {
   "cell_type": "code",
   "execution_count": 11,
   "metadata": {},
   "outputs": [],
   "source": [
    "from __future__ import print_function\n",
    "from ipywidgets import interact, interactive, fixed, interact_manual\n",
    "import ipywidgets as widgets"
   ]
  },
  {
   "cell_type": "code",
   "execution_count": 12,
   "metadata": {},
   "outputs": [],
   "source": [
    "archivo = \"mu1e-7_initialDiffDp1_S10P15_R-12499_Bacteria-abundance.txt\""
   ]
  },
  {
   "cell_type": "code",
   "execution_count": 13,
   "metadata": {},
   "outputs": [],
   "source": [
    "tmax= ! tail -1 \"mu1e-7_initialDiffDp1_S10P15_R-12499_Bacteria-abundance.txt\" | awk '{ print $1 }'\n",
    "tmax=int(tmax[0])"
   ]
  },
  {
   "cell_type": "code",
   "execution_count": 14,
   "metadata": {},
   "outputs": [],
   "source": [
    "organism_abundance = np.genfromtxt(archivo, skip_header=1)\n",
    "label = np.unique(organism_abundance[:,2]).astype(int);\n",
    "stacked_plot = np.zeros([int(tmax), label.shape[0]])\n",
    "new_timeRecord = 1;\n",
    "timesOfRecord = np.array([])\n",
    "time = np.array([])\n",
    "for i in range(organism_abundance.shape[0]):\n",
    "    if organism_abundance[i,0] == new_timeRecord:\n",
    "        timesOfRecord = np.concatenate((timesOfRecord, [new_timeRecord]))\n",
    "        time = np.concatenate((time, [organism_abundance[i,1]]))\n",
    "        new_timeRecord = new_timeRecord + 1\n",
    "    xlabel = int(organism_abundance[i,0] - 1)\n",
    "    ylabel = np.argmax(organism_abundance[i,2] == label)\n",
    "    stacked_plot[xlabel, ylabel] = organism_abundance[i,3]"
   ]
  },
  {
   "cell_type": "code",
   "execution_count": 15,
   "metadata": {},
   "outputs": [],
   "source": [
    "def AreaPlot(t1,t2):\n",
    "    df2 = pd.DataFrame(stacked_plot[t1:t2])\n",
    "    df2.plot.area(stacked=True, legend=False, linewidth=0);"
   ]
  },
  {
   "cell_type": "code",
   "execution_count": 16,
   "metadata": {},
   "outputs": [
    {
     "data": {
      "application/vnd.jupyter.widget-view+json": {
       "model_id": "03adfa02fb17430c91a3b1312fb70aa2",
       "version_major": 2,
       "version_minor": 0
      },
      "text/plain": [
       "aW50ZXJhY3RpdmUoY2hpbGRyZW49KEludFNsaWRlcih2YWx1ZT0wLCBkZXNjcmlwdGlvbj11J3QxJywgbWF4PTUwMDApLCBJbnRTbGlkZXIodmFsdWU9NTAwMCwgZGVzY3JpcHRpb249dSd0MifigKY=\n"
      ]
     },
     "metadata": {},
     "output_type": "display_data"
    }
   ],
   "source": [
    "interact_manual(AreaPlot, t1=widgets.IntSlider(min=0,max=tmax,value=0),t2=widgets.IntSlider(min=0,max=tmax,value=tmax));"
   ]
  },
  {
   "cell_type": "code",
   "execution_count": null,
   "metadata": {},
   "outputs": [],
   "source": []
  },
  {
   "cell_type": "code",
   "execution_count": null,
   "metadata": {},
   "outputs": [],
   "source": []
  }
 ],
 "metadata": {
  "kernelspec": {
   "display_name": "Python 2",
   "language": "python",
   "name": "python2"
  },
  "language_info": {
   "codemirror_mode": {
    "name": "ipython",
    "version": 2
   },
   "file_extension": ".py",
   "mimetype": "text/x-python",
   "name": "python",
   "nbconvert_exporter": "python",
   "pygments_lexer": "ipython2",
   "version": "2.7.15"
  }
 },
 "nbformat": 4,
 "nbformat_minor": 2
}
