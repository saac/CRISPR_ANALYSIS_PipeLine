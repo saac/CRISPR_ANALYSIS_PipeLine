{
 "cells": [
  {
   "cell_type": "code",
   "execution_count": 86,
   "metadata": {},
   "outputs": [],
   "source": [
    "import numpy as np\n",
    "import matplotlib.pyplot as plt\n",
    "import pandas as pd"
   ]
  },
  {
   "cell_type": "code",
   "execution_count": 87,
   "metadata": {},
   "outputs": [],
   "source": [
    "from __future__ import print_function\n",
    "from ipywidgets import interact, interactive, fixed, interact_manual\n",
    "import ipywidgets as widgets"
   ]
  },
  {
   "cell_type": "code",
   "execution_count": 88,
   "metadata": {},
   "outputs": [],
   "source": [
    "def MakeDataFrame(archivo,tmax):\n",
    "    organism_abundance = np.genfromtxt(archivo, skip_header=1)\n",
    "    label = np.unique(organism_abundance[:,2]).astype(int);\n",
    "    stacked_plot = np.zeros([int(tmax), label.shape[0]])\n",
    "    new_timeRecord = 1;\n",
    "    timesOfRecord = np.array([])\n",
    "    time = np.array([])\n",
    "    for i in range(organism_abundance.shape[0]):\n",
    "        if organism_abundance[i,0] == new_timeRecord:\n",
    "            timesOfRecord = np.concatenate((timesOfRecord, [new_timeRecord]))\n",
    "            time = np.concatenate((time, [organism_abundance[i,1]]))\n",
    "            new_timeRecord = new_timeRecord + 1\n",
    "        xlabel = int(organism_abundance[i,0] - 1)\n",
    "        ylabel = np.argmax(organism_abundance[i,2] == label)\n",
    "        stacked_plot[xlabel, ylabel] = organism_abundance[i,3]\n",
    "    return stacked_plot"
   ]
  },
  {
   "cell_type": "code",
   "execution_count": 89,
   "metadata": {},
   "outputs": [],
   "source": [
    "def AreaPlot(stacked_plot,t1,t2):\n",
    "    df2 = pd.DataFrame(stacked_plot[t1:t2])\n",
    "    df2.plot.area(stacked=True, legend=False, linewidth=0);"
   ]
  },
  {
   "cell_type": "code",
   "execution_count": 90,
   "metadata": {},
   "outputs": [],
   "source": [
    "archivoB = \"mu1e-7_initialDiffDp1_S10P15_R-12499_Bacteria-abundance.txt\"\n",
    "tmax= ! tail -1 \"mu1e-7_initialDiffDp1_S10P15_R-12499_Bacteria-abundance.txt\" | awk '{ print $1 }'\n",
    "tmaxB=int(tmax[0])"
   ]
  },
  {
   "cell_type": "code",
   "execution_count": 91,
   "metadata": {},
   "outputs": [],
   "source": [
    "stacked_plotB=MakeDataFrame(archivoB,tmaxB)"
   ]
  },
  {
   "cell_type": "code",
   "execution_count": 92,
   "metadata": {},
   "outputs": [
    {
     "data": {
      "application/vnd.jupyter.widget-view+json": {
       "model_id": "59f8d75179b945b88965aac48fcd1bc7",
       "version_major": 2,
       "version_minor": 0
      },
      "text/plain": [
       "aW50ZXJhY3RpdmUoY2hpbGRyZW49KEludFNsaWRlcih2YWx1ZT0wLCBkZXNjcmlwdGlvbj11J3QxJywgbWF4PTUwMDApLCBJbnRTbGlkZXIodmFsdWU9NTAwMCwgZGVzY3JpcHRpb249dSd0MifigKY=\n"
      ]
     },
     "metadata": {},
     "output_type": "display_data"
    }
   ],
   "source": [
    "interact_manual(AreaPlot, stacked_plot=fixed(stacked_plotB), t1=widgets.IntSlider(min=0,max=tmaxB,value=0),t2=widgets.IntSlider(min=0,max=tmaxB,value=tmaxB));"
   ]
  },
  {
   "cell_type": "code",
   "execution_count": 93,
   "metadata": {},
   "outputs": [],
   "source": [
    "archivoV = \"mu1e-7_initialDiffDp1_S10P15_R-12499_Phage-abundance.txt\"\n",
    "tmax= ! tail -1 \"mu1e-7_initialDiffDp1_S10P15_R-12499_Phage-abundance.txt\" | awk '{ print $1 }'\n",
    "tmaxV=int(tmax[0])"
   ]
  },
  {
   "cell_type": "code",
   "execution_count": 94,
   "metadata": {},
   "outputs": [],
   "source": [
    "stacked_plotV=MakeDataFrame(archivoV,tmaxV)"
   ]
  },
  {
   "cell_type": "code",
   "execution_count": 95,
   "metadata": {},
   "outputs": [
    {
     "data": {
      "application/vnd.jupyter.widget-view+json": {
       "model_id": "99a3e38e67c24d258b2996b010d83796",
       "version_major": 2,
       "version_minor": 0
      },
      "text/plain": [
       "aW50ZXJhY3RpdmUoY2hpbGRyZW49KEludFNsaWRlcih2YWx1ZT0wLCBkZXNjcmlwdGlvbj11J3QxJywgbWF4PTI2MjYpLCBJbnRTbGlkZXIodmFsdWU9MjYyNiwgZGVzY3JpcHRpb249dSd0MifigKY=\n"
      ]
     },
     "metadata": {},
     "output_type": "display_data"
    }
   ],
   "source": [
    "interact_manual(AreaPlot, stacked_plot=fixed(stacked_plotV), t1=widgets.IntSlider(min=0,max=tmaxV,value=0),t2=widgets.IntSlider(min=0,max=tmaxV,value=tmaxV));"
   ]
  },
  {
   "cell_type": "code",
   "execution_count": null,
   "metadata": {},
   "outputs": [],
   "source": []
  }
 ],
 "metadata": {
  "kernelspec": {
   "display_name": "Python 2",
   "language": "python",
   "name": "python2"
  },
  "language_info": {
   "codemirror_mode": {
    "name": "ipython",
    "version": 2
   },
   "file_extension": ".py",
   "mimetype": "text/x-python",
   "name": "python",
   "nbconvert_exporter": "python",
   "pygments_lexer": "ipython2",
   "version": "2.7.15"
  }
 },
 "nbformat": 4,
 "nbformat_minor": 2
}
