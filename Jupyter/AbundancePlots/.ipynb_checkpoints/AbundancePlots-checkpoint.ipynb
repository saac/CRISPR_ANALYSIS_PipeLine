{
 "cells": [
  {
   "cell_type": "code",
   "execution_count": 1,
   "metadata": {},
   "outputs": [],
   "source": [
    "import numpy as np\n",
    "import matplotlib.pyplot as plt\n",
    "import pandas as pd"
   ]
  },
  {
   "cell_type": "code",
   "execution_count": 2,
   "metadata": {},
   "outputs": [],
   "source": [
    "from __future__ import print_function\n",
    "from ipywidgets import interact, interactive, fixed, interact_manual\n",
    "import ipywidgets as widgets"
   ]
  },
  {
   "cell_type": "code",
   "execution_count": 3,
   "metadata": {},
   "outputs": [],
   "source": [
    "def MakeDataFrame(archivo,tmax):\n",
    "    organism_abundance = np.genfromtxt(archivo, skip_header=1)\n",
    "    label = np.unique(organism_abundance[:,2]).astype(int);\n",
    "    stacked_plot = np.zeros([int(tmax), label.shape[0]])\n",
    "    new_timeRecord = 1;\n",
    "    timesOfRecord = np.array([])\n",
    "    time = np.array([])\n",
    "    for i in range(organism_abundance.shape[0]):\n",
    "        if organism_abundance[i,0] == new_timeRecord:\n",
    "            timesOfRecord = np.concatenate((timesOfRecord, [new_timeRecord]))\n",
    "            time = np.concatenate((time, [organism_abundance[i,1]]))\n",
    "            new_timeRecord = new_timeRecord + 1\n",
    "        xlabel = int(organism_abundance[i,0] - 1)\n",
    "        ylabel = np.argmax(organism_abundance[i,2] == label)\n",
    "        stacked_plot[xlabel, ylabel] = organism_abundance[i,3]\n",
    "    return stacked_plot"
   ]
  },
  {
   "cell_type": "code",
   "execution_count": 4,
   "metadata": {},
   "outputs": [],
   "source": [
    "def AreaPlot(stacked_plot,t1,t2):\n",
    "    df2 = pd.DataFrame(stacked_plot[t1:t2])\n",
    "    df2.plot.area(stacked=True, legend=False, linewidth=0);"
   ]
  },
  {
   "cell_type": "code",
   "execution_count": 5,
   "metadata": {},
   "outputs": [],
   "source": [
    "archivoB = \"mu1e-7_initialDiffDp1_S10P15_R-12499_Bacteria-abundance.txt\"\n",
    "archivoV = \"mu1e-7_initialDiffDp1_S10P15_R-12499_Phage-abundance.txt\"\n",
    "\n",
    "tmaxB= ! tail -1 \"mu1e-7_initialDiffDp1_S10P15_R-12499_Bacteria-abundance.txt\" | awk '{ print $1 }'\n",
    "tmaxB=int(tmaxB[0])\n",
    "tmaxV= ! tail -1 \"mu1e-7_initialDiffDp1_S10P15_R-12499_Phage-abundance.txt\" | awk '{ print $1 }'\n",
    "tmaxV=int(tmaxV[0])"
   ]
  },
  {
   "cell_type": "code",
   "execution_count": 6,
   "metadata": {},
   "outputs": [],
   "source": [
    "stacked_plotB=MakeDataFrame(archivoB,tmaxB)\n",
    "stacked_plotV=MakeDataFrame(archivoV,tmaxV)"
   ]
  },
  {
   "cell_type": "code",
   "execution_count": 7,
   "metadata": {},
   "outputs": [],
   "source": [
    "tmax=tmaxV"
   ]
  },
  {
   "cell_type": "code",
   "execution_count": 8,
   "metadata": {},
   "outputs": [
    {
     "data": {
      "application/vnd.jupyter.widget-view+json": {
       "model_id": "a3f21c7b128f479887eca4a9edd48ace",
       "version_major": 2,
       "version_minor": 0
      },
      "text/plain": [
       "aW50ZXJhY3RpdmUoY2hpbGRyZW49KEludFNsaWRlcih2YWx1ZT0wLCBkZXNjcmlwdGlvbj11J3QxJywgbWF4PTI2MjYpLCBJbnRTbGlkZXIodmFsdWU9MjYyNiwgZGVzY3JpcHRpb249dSd0MifigKY=\n"
      ]
     },
     "metadata": {},
     "output_type": "display_data"
    }
   ],
   "source": [
    "interact_manual(AreaPlot, stacked_plot=fixed(stacked_plotB), t1=widgets.IntSlider(min=0,max=tmax,step=1, value=0),t2=widgets.IntSlider(min=0,max=tmax,step=1,value=tmax));"
   ]
  },
  {
   "cell_type": "code",
   "execution_count": 9,
   "metadata": {},
   "outputs": [
    {
     "data": {
      "application/vnd.jupyter.widget-view+json": {
       "model_id": "c177f0f03059418fb78f2bd61d9b427f",
       "version_major": 2,
       "version_minor": 0
      },
      "text/plain": [
       "aW50ZXJhY3RpdmUoY2hpbGRyZW49KEludFNsaWRlcih2YWx1ZT0wLCBkZXNjcmlwdGlvbj11J3QxJywgbWF4PTI2MjYpLCBJbnRTbGlkZXIodmFsdWU9MjYyNiwgZGVzY3JpcHRpb249dSd0MifigKY=\n"
      ]
     },
     "metadata": {},
     "output_type": "display_data"
    }
   ],
   "source": [
    "interact_manual(AreaPlot, stacked_plot=fixed(stacked_plotV), t1=widgets.IntSlider(min=0,max=tmax,step=1,value=0),t2=widgets.IntSlider(min=0,max=tmax,step=1,value=tmax));"
   ]
  },
  {
   "cell_type": "code",
   "execution_count": null,
   "metadata": {},
   "outputs": [],
   "source": []
  }
 ],
 "metadata": {
  "kernelspec": {
   "display_name": "Python 2",
   "language": "python",
   "name": "python2"
  },
  "language_info": {
   "codemirror_mode": {
    "name": "ipython",
    "version": 2
   },
   "file_extension": ".py",
   "mimetype": "text/x-python",
   "name": "python",
   "nbconvert_exporter": "python",
   "pygments_lexer": "ipython2",
   "version": "2.7.15"
  }
 },
 "nbformat": 4,
 "nbformat_minor": 2
}
